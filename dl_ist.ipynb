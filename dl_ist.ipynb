{
  "nbformat": 4,
  "nbformat_minor": 0,
  "metadata": {
    "colab": {
      "provenance": [],
      "gpuType": "T4",
      "mount_file_id": "1_4J6Q49uayZ8bQJzBP_7-WamkTcm2GKE",
      "authorship_tag": "ABX9TyNulo27Hem7npLDJskuHDSM",
      "include_colab_link": true
    },
    "kernelspec": {
      "name": "python3",
      "display_name": "Python 3"
    },
    "language_info": {
      "name": "python"
    },
    "accelerator": "GPU"
  },
  "cells": [
    {
      "cell_type": "markdown",
      "metadata": {
        "id": "view-in-github",
        "colab_type": "text"
      },
      "source": [
        "<a href=\"https://colab.research.google.com/github/syedsajidhussain/dl-lab-AIML_5th/blob/main/dl_ist.ipynb\" target=\"_parent\"><img src=\"https://colab.research.google.com/assets/colab-badge.svg\" alt=\"Open In Colab\"/></a>"
      ]
    },
    {
      "cell_type": "code",
      "execution_count": 2,
      "metadata": {
        "colab": {
          "base_uri": "https://localhost:8080/"
        },
        "id": "GrgddwVgi0jC",
        "outputId": "8b6bd6b7-a505-4646-dcaa-31b3cccf8370"
      },
      "outputs": [
        {
          "output_type": "stream",
          "name": "stdout",
          "text": [
            "hello\n",
            "world\n"
          ]
        }
      ],
      "source": [
        "print(\"hello\")\n",
        "print('world')"
      ]
    },
    {
      "cell_type": "code",
      "source": [
        "ls"
      ],
      "metadata": {
        "colab": {
          "base_uri": "https://localhost:8080/"
        },
        "id": "AfePBiYIms1H",
        "outputId": "f9d8a8c2-b3cc-449a-b6a5-1e074ec169f8"
      },
      "execution_count": 7,
      "outputs": [
        {
          "output_type": "stream",
          "name": "stdout",
          "text": [
            "'=1.0.0'\n",
            "'10th qualification.zip'\n",
            "'12 marks sheet.zip'\n",
            "'1533011601895 (1).jpg'\n",
            " 1533011601895.jpg\n",
            "'15366916999311891873372 (1).jpg'\n",
            " 15366916999311891873372.jpg\n",
            "'15366918810141436194623 (1).jpg'\n",
            " 15366918810141436194623.jpg\n",
            " 1-s2.0-S1053811920310521-main.pdf\n",
            "'2023-07-19 CONSULTING AGREEMENT Syed Sajid Hussain.gdoc'\n",
            " 26524---619.RPT\n",
            " Aadhaar.pdf\n",
            " A-Computer-Aided-Diagnosis-of-Brain-Tumors-Using-a-Fine-Tuned-YOLO-based-Model-with-Transfer-Learning.pdf\n",
            "'advance in IRB till survey.docx'\n",
            " advjavamajor.docx\n",
            " agreement.pdf\n",
            " AI_Echo_Technical_brief_1.1.docx\n",
            "'all documents.pdf'\n",
            "'Appointment  letter  for Syed Sajid Hussain - MAILab - Dec 3rd 2021 (1).pdf'\n",
            "'Appointment_letter_Sajid_2023 (1).pdf'\n",
            " \u001b[0m\u001b[01;34mAssign-demo\u001b[0m/\n",
            " Assignment_1.ipynb\n",
            "'Assignment-1(Python-Programming).gform'\n",
            "'Assignment-2(Python programming).gform'\n",
            "'Assignment-2(Python programming) (Responses).gsheet'\n",
            " att-gate.png\n",
            "'BeautyPlus_20180812144631989_save (1).jpg'\n",
            " BeautyPlus_20180812144631989_save.jpg\n",
            "'Blank Quiz.gform'\n",
            "'Blank Quiz (Responses).gsheet'\n",
            " Brain_Tumor_Classification.ipynb\n",
            "'btech provisional.zip'\n",
            " CFM01-20231014T071715Z-001.zip\n",
            "'check list-phd.gdoc'\n",
            "'check list-phd.pdf'\n",
            " \u001b[01;34mclassification3d\u001b[0m/\n",
            "\u001b[01;34m'Colab Notebooks'\u001b[0m/\n",
            " compilermajor.doc\n",
            "'confirmation letter - Syed S Hussain.pdf'\n",
            "'Copy of Part III - Convolutional Neural Networks.pptx.gslides'\n",
            " covid.pdf\n",
            "'DEPARTMENT OF COMPUTER SCIENCE AND ENGINEERING.pdf'\n",
            " DevOps-Major_project.gsheet\n",
            " DL-Quiz-responses.gsheet\n",
            " dseg_class-Page-20.png\n",
            " dtiguide.pdf\n",
            "'enabling CSD in DMRI.pdf'\n",
            " Engagement-plan_Syed_sajid_hussain.xlsx\n",
            " \u001b[01;34mexample_files\u001b[0m/\n",
            " experience.jpg\n",
            "'experience nit2020.pdf'\n",
            " experience.pdf\n",
            " faculty.gsheet\n",
            " faculty.xlsx\n",
            "'FB_IMG_1528292625320 (1).jpg'\n",
            " FB_IMG_1528292625320.jpg\n",
            "'Fetal Health Classification.pdf'\n",
            "'Form Access Log: Deep learning-Quiz-1.gsheet'\n",
            " forobjective1.pdf\n",
            " \u001b[01;34mfsl_course_data\u001b[0m/\n",
            " FullSizeRender.jpg\n",
            "'Getting started.pdf'\n",
            "'gliomas arricle.pdf'\n",
            " hikeCAM_1529077579381.jpeg\n",
            "'I have a dataset to do the above task .gdoc'\n",
            " IMG_1536691206499.jpg\n",
            " img176.jpg\n",
            " img177.jpg\n",
            " img178.jpg\n",
            " IMG-20181108-WA0003.jpg\n",
            " IMG_20200311_131951.jpg\n",
            " img_utils.py\n",
            " \u001b[01;34minput\u001b[0m/\n",
            " Introduction.docx\n",
            "'IRB final.docx'\n",
            " iris-data.csv\n",
            " kat.drawio\n",
            " LICENSE\n",
            "'matric marks sheet.zip'\n",
            "\u001b[01;34m'matric marks sheet.zip (Unzipped Files)'\u001b[0m/\n",
            " MICRA.pdf\n",
            "'Minor Project 1(BTech CSE CCVT-B1, B2, B3).gform'\n",
            "'Minor Project 1(BTech CSE CCVT-B1, B2, B3) (Responses).gsheet'\n",
            " \u001b[01;34mmodules\u001b[0m/\n",
            "'Mtech transcript.pdf'\n",
            "\u001b[01;34m'My IRB'\u001b[0m/\n",
            " my_paper.pdf\n",
            "'my pic.jpg'\n",
            "'new Segmentation model.pdf'\n",
            " \u001b[01;34mnotebooks_split\u001b[0m/\n",
            " OneDrive_2023-06-28.zip\n",
            " \u001b[01;34moutput\u001b[0m/\n",
            " paperDTI.pdf\n",
            "\u001b[01;34m'Paper material '\u001b[0m/\n",
            " payslip-june.pdf\n",
            " phd-CV.pdf\n",
            " PhDprop4.pdf\n",
            "'Phd Seminar ReportSyed Sajid Hussain.docx'\n",
            "'phtograph (1) (1).jpg'\n",
            "'phtograph (1) (2).jpg'\n",
            "'phtograph (1).jpg'\n",
            " \u001b[01;34mPr2\u001b[0m/\n",
            " \u001b[01;34m__pycache__\u001b[0m/\n",
            "'Python-assignment (Responses).gsheet'\n",
            " Quiz1_DL.gsheet\n",
            " quiz-1_DL_MCA.gsheet\n",
            " radiogenomic.drawio\n",
            " README.md\n",
            " Report.gdoc\n",
            " requirements.txt\n",
            " \u001b[01;34mresults\u001b[0m/\n",
            " road.drawio\n",
            " ronaldo.png\n",
            "'Running PulmonAI.docx'\n",
            " s40708-021-00128-2.pdf\n",
            " s41598-021-87801-y.pdf\n",
            "'Salary slip_Syed_May.pdf'\n",
            "\u001b[01;34m'sci list'\u001b[0m/\n",
            "'Screenshot_20180901-224351 (1).png'\n",
            " Screenshot_20180901-224351.png\n",
            " Screenshot_2024-07-12-12-48-31-67_0ce57feeccaa51fb7deed04b4dbda235.jpg\n",
            " \u001b[01;34mscreenshots\u001b[0m/\n",
            " \u001b[01;34mSemi-supervised_FCM_Loss_for_Segmentation\u001b[0m/\n",
            " sign.jpg\n",
            "'Simaab_Amir_s_CV (1).pdf'\n",
            "'Successful SoPs.pdf'\n",
            " SUMMARY.md\n",
            " syed_CV.pdf\n",
            "'syed_CV_updated (1).pdf'\n",
            " syed_CV_updated.pdf\n",
            "'Syed-Hussain-cv (1).pdf'\n",
            "'Syed-Hussain-cv (2).pdf'\n",
            " Syed-Hussain-cv.pdf\n",
            "'Syed_Hussain_Matric (1).pdf'\n",
            "'Syed_Hussain_Matric (2).pdf'\n",
            "'Syed_Hussain_Matric (3).pdf'\n",
            " Syed_Hussain_Matric.pdf\n",
            " Syed_Hussain_UG.pdf\n",
            " Syed_Qurat_cv.pdf\n",
            "'syed_sajid_hussain_CV (1).pdf'\n",
            "'syed_sajid_hussain_CV-2 (1).pdf'\n",
            " syed_sajid_hussain_CV-2.pdf\n",
            "'syed_sajid_hussain_CV (2).pdf'\n",
            "'syed_sajid_hussain_CV (3).pdf'\n",
            "'syed_sajid_hussain_CV (4).pdf'\n",
            " syed_sajid_hussain_CV-7.pdf\n",
            " syed_sajid_hussain_CV.pdf\n",
            " \u001b[01;34msyedsajidhussain-HP-EliteBook-840-G4\u001b[0m/\n",
            " SyedSajidHussain.pdf\n",
            "'theory and Lab Course File  values.docx'\n",
            "'time table - sajid sir.gdoc'\n",
            "'track to learn.pdf'\n",
            " \u001b[01;34mTutorial_10\u001b[0m/\n",
            " U13CS026-converted.pdf\n",
            " U13CS026.tif\n",
            "'UG-PG (1).pdf'\n",
            "'UG-PG (2).pdf'\n",
            " UG-PG.pdf\n",
            " \u001b[01;34mUnsuprevised_Seg_via_CNN\u001b[0m/\n",
            "'Untitled Diagram (1).drawio'\n",
            "'Untitled Diagram (2).drawio'\n",
            "'Untitled Diagram (3).drawio'\n",
            "'Untitled Diagram (4).drawio'\n",
            "'Untitled Diagram.drawio'\n",
            "'Untitled document.gdoc'\n",
            "'Untitled form.gform'\n",
            "'Untitled spreadsheet.gsheet'\n",
            "'Updated_cv (1).pdf'\n",
            " Updated_CV-8.pdf\n",
            "'WhatsApp Image 2024-02-21 at 09.08 (1).34_d7391c9e.jpg'\n",
            "'WhatsApp Image 2024-02-21 at 09.08.34_d7391c9e.jpg'\n",
            "'white matter hyperintensities.pdf'\n",
            " white-matter_tracts.csv\n",
            " white-matter_tracts.gsheet\n"
          ]
        }
      ]
    },
    {
      "cell_type": "code",
      "source": [
        "%cd drive/MyDrive/"
      ],
      "metadata": {
        "colab": {
          "base_uri": "https://localhost:8080/"
        },
        "id": "xabu9WyJm3YO",
        "outputId": "e132e6cc-47c6-4f95-d158-b2f20a65b665"
      },
      "execution_count": 6,
      "outputs": [
        {
          "output_type": "stream",
          "name": "stdout",
          "text": [
            "/content/drive/MyDrive\n"
          ]
        }
      ]
    },
    {
      "cell_type": "code",
      "source": [
        "import pandas as pd\n",
        "data=pd.read_csv('iris-data.csv')"
      ],
      "metadata": {
        "id": "DrGO2MF2juV4"
      },
      "execution_count": 9,
      "outputs": []
    },
    {
      "cell_type": "code",
      "source": [
        "print(data.describe())"
      ],
      "metadata": {
        "colab": {
          "base_uri": "https://localhost:8080/"
        },
        "id": "svw8rbUpniIO",
        "outputId": "faa7126e-882c-410b-b3a7-aa419064ec51"
      },
      "execution_count": 10,
      "outputs": [
        {
          "output_type": "stream",
          "name": "stdout",
          "text": [
            "       sepal-length  sepal-width  petal-length   petal-width\n",
            "count    150.000000   150.000000    150.000000    150.000000\n",
            "mean       5.843333     3.054000      3.758667      1.198667\n",
            "std        0.828066     0.433594      1.764420      0.763161\n",
            "min        4.300000     2.000000      1.000000      0.100000\n",
            "25%        5.100000     2.800000      1.600000      0.300000\n",
            "50%        5.800000     3.000000      4.350000      1.300000\n",
            "75%        6.400000     3.300000      5.100000      1.800000\n",
            "max        7.900000     4.400000      6.900000      2.500000\n"
          ]
        }
      ]
    },
    {
      "cell_type": "code",
      "source": [],
      "metadata": {
        "id": "XhcZ7V2pnnho"
      },
      "execution_count": null,
      "outputs": []
    }
  ]
}